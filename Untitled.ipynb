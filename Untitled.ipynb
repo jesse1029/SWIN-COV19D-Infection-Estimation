{
 "cells": [
  {
   "cell_type": "code",
   "execution_count": 10,
   "id": "48b9c0e5",
   "metadata": {},
   "outputs": [
    {
     "data": {
      "image/png": "[encoded data removed]",
      "text/plain": [
       "<Figure size 432x288 with 1 Axes>"
      ]
     },
     "metadata": {
      "needs_background": "light"
     },
     "output_type": "display_data"
    },
    {
     "name": "stdout",
     "output_type": "stream",
     "text": [
      "[0.398166339227243, 0.8965291421087099, 0.9237066142763589, 0.9577603143418467, 0.9564505566470203, 0.9754420432220039, 0.9734774066797642, 0.9731499672560576, 0.9741322855271775, 0.9718402095612312, 0.9993451211525868]\n"
     ]
    }
   ],
   "source": [
    "import pandas as pd, numpy as np\n",
    "df = pd.read_csv(\"../data/Train.csv\", header=None)\n",
    "\n",
    "def qz(x, step=5):\n",
    "    x = x//step\n",
    "    return int(x)\n",
    "\n",
    "\n",
    "v=np.array([qz(v, step=10) for v in df[1].values])\n",
    "# print(v)\n",
    "from matplotlib import pyplot as plt\n",
    "import cv2, numpy as np\n",
    "\n",
    "plt.hist(v)\n",
    "plt.show()\n",
    "\n",
    "\n",
    "h = []\n",
    "for i in range(0,11):\n",
    "    h.append(np.mean(v==i))\n",
    "    \n",
    "print(list(1-np.array(h)))"
   ]
  },
  {
   "cell_type": "code",
   "execution_count": 18,
   "id": "85fb8f4e",
   "metadata": {},
   "outputs": [
    {
     "name": "stdout",
     "output_type": "stream",
     "text": [
      "[125.75041596 125.75041596 125.75041596]\n",
      "[94.23005696 94.23005696 94.23005696]\n"
     ]
    }
   ],
   "source": [
    "import glob\n",
    "\n",
    "dx1=glob.glob('../data/Train/*.png')+glob.glob('../data/Val/*.png')\n",
    "\n",
    "m1, std1 = np.zeros((3)), np.zeros((3))\n",
    "\n",
    "for f in dx1:\n",
    "    img = cv2.imread(f)\n",
    "    m1  += np.mean(img, (0,1))\n",
    "    std1  += np.std(img, (0,1))\n",
    "    \n",
    "print(m1/len(dx1))\n",
    "print(std1/len(dx1))"
   ]
  },
  {
   "cell_type": "code",
   "execution_count": 19,
   "id": "3338ae38",
   "metadata": {},
   "outputs": [
    {
     "name": "stdout",
     "output_type": "stream",
     "text": [
      "[0.49313889 0.49313889 0.49313889]\n",
      "[0.36952964 0.36952964 0.36952964]\n"
     ]
    }
   ],
   "source": [
    "    \n",
    "print(m1/len(dx1)/255)\n",
    "print(std1/len(dx1)/255)"
   ]
  },
  {
   "cell_type": "code",
   "execution_count": 29,
   "id": "de29bcc8",
   "metadata": {},
   "outputs": [
    {
     "name": "stdout",
     "output_type": "stream",
     "text": [
      "torch.Size([10, 1044])\n"
     ]
    }
   ],
   "source": [
    "import torch\n",
    "a=torch.zeros((10, 1024))\n",
    "b=torch.zeros((10, 20))\n",
    "print(torch.cat((a,b), 1).shape)\n"
   ]
  }
 ],
 "metadata": {
  "kernelspec": {
   "display_name": "Python 3 (ipykernel)",
   "language": "python",
   "name": "python3"
  },
  "language_info": {
   "codemirror_mode": {
    "name": "ipython",
    "version": 3
   },
   "file_extension": ".py",
   "mimetype": "text/x-python",
   "name": "python",
   "nbconvert_exporter": "python",
   "pygments_lexer": "ipython3",
   "version": "3.7.11"
  }
 },
 "nbformat": 4,
 "nbformat_minor": 5
}
