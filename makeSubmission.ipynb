{
 "cells": [
  {
   "cell_type": "code",
   "execution_count": 1,
   "id": "cba5d989",
   "metadata": {},
   "outputs": [],
   "source": [
    "# --------------------------------------------------------\n",
    "# Swin Transformer\n",
    "# Copyright (c) 2021 Microsoft\n",
    "# Licensed under The MIT License [see LICENSE for details]\n",
    "# Written by Ze Liu\n",
    "# --------------------------------------------------------\n",
    "\n",
    "import os\n",
    "import time\n",
    "import argparse\n",
    "import datetime\n",
    "import numpy as np\n",
    "\n",
    "import torch\n",
    "import torch.backends.cudnn as cudnn\n",
    "import torch.distributed as dist\n",
    "\n",
    "from timm.loss import LabelSmoothingCrossEntropy, SoftTargetCrossEntropy\n",
    "from timm.utils import accuracy, AverageMeter\n",
    "\n",
    "from config import get_config\n",
    "from models import build_model\n",
    "from data import build_loader\n",
    "from lr_scheduler import build_scheduler\n",
    "from optimizer import build_optimizer\n",
    "from logger import create_logger\n",
    "from utils import load_checkpoint, save_checkpoint, get_grad_norm, auto_resume_helper, reduce_tensor\n",
    "import albumentations as A\n",
    "from albumentations.pytorch.transforms import ToTensorV2\n",
    "import cv2\n",
    "import pandas as pd\n",
    "import glob\n",
    "from zipfile import ZipFile\n",
    "import tqdm"
   ]
  },
  {
   "cell_type": "code",
   "execution_count": null,
   "id": "4a5f8873",
   "metadata": {
    "scrolled": true
   },
   "outputs": [
    {
     "name": "stdout",
     "output_type": "stream",
     "text": [
      "=> merge config from configs/swin_tiny_patch4_window7_224.yaml\n"
     ]
    },
    {
     "name": "stderr",
     "output_type": "stream",
     "text": [
      " 76%|█████████████████████████████████████████████████████████████████████████████████████████████████████████████████████████████████████████████████████████████████████████████████████████████████████████████████▉                                                                   | 986/1301 [00:35<00:09, 31.96it/s]"
     ]
    }
   ],
   "source": [
    "try:\n",
    "    # noinspection PyUnresolvedReferences\n",
    "    from apex import amp\n",
    "except ImportError:\n",
    "    amp = None\n",
    "os.environ[\"CUDA_VISIBLE_DEVICES\"] =\"5\"\n",
    "\n",
    "def parse_option():\n",
    "    parser = argparse.ArgumentParser('Swin Transformer training and evaluation script', add_help=False)\n",
    "    parser.add_argument('--cfg', type=str, default=\"configs/swin_tiny_patch4_window7_224.yaml\", metavar=\"FILE\", help='path to config file', )\n",
    "    parser.add_argument(\n",
    "        \"--opts\",\n",
    "        help=\"Modify config options by adding 'KEY VALUE' pairs. \",\n",
    "        default=None,\n",
    "        nargs='+',\n",
    "    )\n",
    "\n",
    "    # easy config modification\n",
    "    parser.add_argument('--batch-size', type=int, help=\"batch size for single GPU\")\n",
    "    parser.add_argument('--data-path', type=str, help='path to dataset')\n",
    "    parser.add_argument('--zip', action='store_true', help='use zipped dataset instead of folder dataset')\n",
    "    parser.add_argument('--cache-mode', type=str, default='part', choices=['no', 'full', 'part'],\n",
    "                        help='no: no cache, '\n",
    "                             'full: cache all data, '\n",
    "                             'part: sharding the dataset into nonoverlapping pieces and only cache one piece')\n",
    "    parser.add_argument('--resume', default=True, help='resume from checkpoint')\n",
    "    parser.add_argument('--accumulation-steps', type=int, help=\"gradient accumulation steps\")\n",
    "    parser.add_argument('--use-checkpoint', action='store_true',\n",
    "                        help=\"whether to use gradient checkpointing to save memory\")\n",
    "    parser.add_argument('--amp-opt-level', type=str, default='O1', choices=['O0', 'O1', 'O2'],\n",
    "                        help='mixed precision opt level, if O0, no amp is used')\n",
    "    parser.add_argument('--output', default='deepfakedetection', type=str, metavar='PATH',\n",
    "                        help='root of output folder, the full path is <output>/<model_name>/<tag> (default: output)')\n",
    "    parser.add_argument('--tag', help='tag of experiment')\n",
    "    parser.add_argument('--eval', default=True, help='Perform evaluation only')\n",
    "    parser.add_argument('--base_lr', default=True, help='Perform evaluation only')\n",
    "    parser.add_argument('--throughput', action='store_true', help='Test throughput only')\n",
    "\n",
    "    # distributed training\n",
    "    parser.add_argument(\"--local_rank\", type=int, default=0, help='local rank for DistributedDataParallel')\n",
    "#     parser.add_argument(\"-f\", type=int,help='local rank for DistributedDataParallel')\n",
    "    args, unparsed = parser.parse_known_args()\n",
    "\n",
    "    config = get_config(args)\n",
    "\n",
    "    return args, config\n",
    "\n",
    "\n",
    "if __name__ == '__main__':\n",
    "    \n",
    "    _, config = parse_option()\n",
    "    model = build_model(config)\n",
    "    \n",
    "    d = torch.load('ckpt_epoch_260.pth', map_location='cpu')\n",
    "    model.load_state_dict(d['model'], strict=True)\n",
    "    model = torch.nn.DataParallel(model)\n",
    "\n",
    "    val_transform = A.Compose([ \n",
    "        A.Resize(height=512,width=512),\n",
    "        A.CenterCrop(height=416, width=416),\n",
    "        A.Normalize(\n",
    "\n",
    "                    mean=[0.49313889,0.49313889, 0.49313889],\n",
    "                    std=[0.36952964,0.36952964,0.36952964],\n",
    "                    ),\n",
    "                        ToTensorV2()\n",
    "                    ])\n",
    "\n",
    "    cudnn.benchmark = True\n",
    "    dx = sorted(glob.glob('../data/test/Test/*.png')) # For private testing phase\n",
    "    dx = sorted(glob.glob('../data/Val/*.png'))  # For validation\n",
    "\n",
    "    model.eval()\n",
    "    model.cuda()\n",
    "    df = []\n",
    "    for f in tqdm.tqdm(dx, total=len(dx)):\n",
    "        im = cv2.imread(f)\n",
    "        im = cv2.cvtColor(im, cv2.COLOR_BGR2RGB)\n",
    "        x = val_transform(image=im)['image'].unsqueeze(0).cuda()\n",
    "        s = model(x)\n",
    "        s = s.item()*100\n",
    "        s = 0 if s<1 else s\n",
    "        df.append([os.path.basename(f), s])\n",
    "#             print(df[-1], int(s))\n",
    "\n",
    "    df = pd.DataFrame(df)\n",
    "    df.to_csv('predictions.csv', header=False, index=False)\n",
    "\n",
    "    with ZipFile(f'sub_final.zip', 'w') as myzip:\n",
    "        myzip.write('predictions.csv')   "
   ]
  },
  {
   "cell_type": "code",
   "execution_count": 3,
   "id": "80a1c669",
   "metadata": {},
   "outputs": [
    {
     "data": {
      "text/plain": [
       "'/home/jess/COV19DInfection/data/Val/Image_1300.png'"
      ]
     },
     "execution_count": 3,
     "metadata": {},
     "output_type": "execute_result"
    }
   ],
   "source": []
  }
 ],
 "metadata": {
  "kernelspec": {
   "display_name": "Python 3 (ipykernel)",
   "language": "python",
   "name": "python3"
  },
  "language_info": {
   "codemirror_mode": {
    "name": "ipython",
    "version": 3
   },
   "file_extension": ".py",
   "mimetype": "text/x-python",
   "name": "python",
   "nbconvert_exporter": "python",
   "pygments_lexer": "ipython3",
   "version": "3.7.11"
  }
 },
 "nbformat": 4,
 "nbformat_minor": 5
}
